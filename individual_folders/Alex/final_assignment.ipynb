{
 "cells": [
  {
   "cell_type": "markdown",
   "metadata": {},
   "source": [
    "# Request for Proposals (RFP): Mitigating Urban Heat Islands for Vulnerable Populations in Developing Countries  \n",
    "\n",
    "**Introduction**\n",
    "\n",
    "The term \"urban heat island\" (UHI) refers to a phenomenon that occurs when temperatures in urban areas are higher than those in the areas that surround them (suburban area).\n",
    "\n",
    "The urban heat island phenomenon can result in increase of energy consumption, increase of air pollution, decrease of water quality, and increase of greenhouse gas emissions, all of which have the potential to negatively impact people in a variety of ways.\n",
    "\n",
    "When we talk about \"Urban Heat Islands for Vulnerable Populations,\" we refer to groups of people such as the homeless, migrants, elderly individuals, young children, and people with pre-existing medical conditions. These groups often have less access to resources to protect themselves from extreme heat, such as air conditioning, adequate shelter, or access to clean water. This situation could lead in health problems as heat strokers or dehydaration. \n",
    "\n",
    "UHI have additional environmental effects, including increased air pollution and greenhouse gas emissions. UHI worsens air quality due to higher fossil fuel consumption, resulting in the production of carbon dioxide (CO2) and other pollutants like sulphur dioxide (SO2) and nitrogen oxides (NOx), which contribute to the greenhouse effect.\n",
    "\n"
   ]
  },
  {
   "cell_type": "markdown",
   "metadata": {},
   "source": [
    "# Project description\n",
    "Project aims to identify urban areas affected by UHIs impacting vulnerable populations. The proposal will propose and develop actionable strategies based on geospatial and weather data to reduce disparities and improve conditions."
   ]
  },
  {
   "cell_type": "markdown",
   "metadata": {},
   "source": [
    "# Define\n",
    "## Research question\n",
    "How to change conditions and reduce disparities caused by UHIs to improve vulnerable population lives?\n",
    "\n",
    "## Hypotheses\n",
    "The mapping and the identification of vulnerable population per country and UHIs can provide guidance to modify those areas. \n",
    "\n",
    "## Hypothesis notes\n",
    "**Find data from the weather systems (forecast and historic) by locations. Areas with high density of vulnerable population to map it. Idenitfy possible solutions and the available resources in the area **\n",
    "\n",
    "## Actions\n",
    "\n",
    "\n",
    "Steps needed to perform: \n",
    "* Investigate the vulnerable populations affected in the contexts of UHIs and how to identify them \n",
    "* Investigate the impacts of land cover types on ambient temperatures\n",
    "* Examine the relationship between ambient temperatures and vulnerable populations\n",
    "* Identify specific locations with high ambient temperatures and high percentages of vulnerable populations\n",
    "* Recommend mitigation measures to reduce the adverse effect of urban heat islands.\n"
   ]
  },
  {
   "cell_type": "markdown",
   "metadata": {},
   "source": [
    "# Vulnerable populations in UHI context\n",
    "\n",
    "In this study, we focused on identifying and analyzing vulnerable populations in the context of Urban Heat Islands (UHI). To efficiently collect and organize data, we utilized the online tool Smallpdf to convert a PDF document containing relevant information into an Excel file.\n",
    "\n",
    "(Source)[https://spaj.ukm.my/ijphr/index.php/ijphr/article/view/422]\n",
    "\n",
    "We employed Smallpdf to extract and convert the data table from the PDF into a easily manageable Excel format. Once we obtained the Excel file with the data, we proceeded to convert it to CSV to store it and study it in our Github folder."
   ]
  },
  {
   "cell_type": "code",
   "execution_count": null,
   "metadata": {
    "vscode": {
     "languageId": "shellscript"
    }
   },
   "outputs": [],
   "source": [
    "#Instalar para poder convertir XLSX a CSV\n",
    "sudo apt-get install xlsx2csv"
   ]
  },
  {
   "cell_type": "code",
   "execution_count": null,
   "metadata": {
    "vscode": {
     "languageId": "shellscript"
    }
   },
   "outputs": [],
   "source": [
    "#Copia del excel al CSV\n",
    "\n",
    "xlsx2csv UHIguia.xlsx --sheet 4 --delimiter ';' >> UHIguia.csv"
   ]
  },
  {
   "cell_type": "markdown",
   "metadata": {},
   "source": [
    "# Case of Study\n",
    "\n",
    "For the RFP we will be creating a test for Manila city in Phillipines so then we can ensure it can be escalated. \n",
    "\n",
    "Country: \n",
    "    * Philippines\n",
    "Study type: \n",
    "    * Cross-sectional\t\n",
    "Findings: \n",
    "    * Population density was positively associated with the level of heat stress experienced by respondents. Those who felt little heat stress lived in areas with lower population density (less than 1467 people/km2), while those with higher levels of heat stress lived in areas with higher population density (up to 41,500 people/km2 in Manila City).\t\n",
    "\n",
    "According to the Koppen Climate Classification Manila has a tropical rainforest climate (Af). There is no dry season in a tropical rainforest environment, and it rains at least 60 mm per month throughout the year (2.36 in). Tropical rainforest climates do not have distinct seasons; it is hot and humid year-round, with frequent and heavy rains. Manila has an annual average temperature of 27.8 degrees Celsius, or 82.0 degrees Fahrenheit. With an average temperature of 85.0 °F (29.4 °C), April is the hottest month of the year, while the lowest month is January at 79.0 °F (26.1 °C).\n",
    "\n",
    "Meteorological raw data taken is take from (the weather bureau of the Philippines)[https://www.pagasa.dost.gov.ph/]. The meteorological parameters include rainfall amount, mean temperature, maximum temperature, minimum temperature, wind speed, wind direction, and relative humidity. Since just one synoptic station is in Port Area, Manila (14.5878°N latitude and 120.9690°E longitude), only point data are available for Manila City.\n",
    "\n",
    "Heat-health studies stated that older people are more vulnerable to extreme temperatures due to their existing illness and low tolerance to handle it (Ebi et al., 2021; Flynn et al., 2007; Knowlton et al, 2007; Worfolk, 2000). The study concentrated on 2020 population datasets of people aged 60 to 80."
   ]
  },
  {
   "cell_type": "markdown",
   "metadata": {},
   "source": [
    "# Impacts of land cover types on ambient temperatures\n",
    "\n",
    "\n",
    "A comprehensive city-wide ambient temperature dataset is needed to assess urban heat islands and their associations with land cover types and vulnerable populations.\n",
    "\n",
    "## Land Surface Temperature (LST)\n",
    "\n",
    "Land Surface Temperature (LST) is the radiative skin temperature of the land derived from solar radiation. A simplified definition would be how hot the “surface” of the Earth would feel to the touch in a particular location. From a satellite’s point of view, the “surface” is whatever it sees when it looks through the atmosphere to the ground. It could be snow and ice, the grass on a lawn, the roof of a building, or the leaves in the canopy of a forest. Land surface temperature is not the same as the air temperature that is included in the daily weather report.\n",
    "\n",
    "Information from : (Glovis)[https://glovis.usgs.gov/app] should be retrieve in order to get the Land surface temperature from Manila City\n",
    "The Moderate Resolution Imaging Spectroradiometer (MODIS)[https://modis.gsfc.nasa.gov/] satellite LST data is used to measure the magnitude of UHI in the Philippines\n",
    "\n",
    "\n",
    "(MODIS Land-Surface Temperature Algorithm Theoretical Basis Document (LST ATBD))[https://modis.gsfc.nasa.gov/data/atbd/atbd_mod11.pdf]\n",
    "(MODIS Land Surface Temperature Products Users' Guide)[https://www.icess.ucsb.edu/modis/LstUsrGuide/MODIS_LST_products_Users_guide.pdf]\n",
    "How to download LST information from Modis: https://www.icess.ucsb.edu/modis/LstUsrGuide/usrguide.html\n",
    "\n",
    "*Data pool from MODIS (link)[https://lpdaac.usgs.gov/tools/data-pool/]\n",
    "\n",
    "# MOD11A1 product\n",
    "\n",
    "All Modis MOD11A1 product imagens data can be found here in link[https://e4ftl01.cr.usgs.gov/MOLT/MOD11A1.061/]. Information for all the MODIS products in the (link)[https://e4ftl01.cr.usgs.gov/MOLT/]\n",
    "\n",
    "The MOD11A1 product is a daily global Land Surface Temperature (LST) product generated by the Moderate Resolution Imaging Spectroradiometer (MODIS) instrument aboard NASA's Terra satellite. It provides information on the surface temperature of the Earth's land areas at a spatial resolution of 1 kilometer. The data is derived from MODIS observations and is available in an integerized sinusoidal or sinusoidal projection. Each MOD11A1 product contains a grid of 1200 rows by 1200 columns, covering the entire globe. This product represents a snapshot of the land surface temperature for a single day, making it suitable for daily monitoring and analysis of temperature variations on the Earth's surface.\n",
    "\n",
    "\n"
   ]
  },
  {
   "cell_type": "code",
   "execution_count": null,
   "metadata": {
    "vscode": {
     "languageId": "shellscript"
    }
   },
   "outputs": [],
   "source": [
    "# How to download the information from the Application with Script: \n",
    "\n",
    "#!/bin/bash\n",
    "\n",
    "GREP_OPTIONS=''\n",
    "\n",
    "cookiejar=$(mktemp cookies.XXXXXXXXXX)\n",
    "netrc=$(mktemp netrc.XXXXXXXXXX)\n",
    "chmod 0600 \"$cookiejar\" \"$netrc\"\n",
    "function finish {\n",
    "  rm -rf \"$cookiejar\" \"$netrc\"\n",
    "}\n",
    "\n",
    "trap finish EXIT\n",
    "WGETRC=\"$wgetrc\"\n",
    "\n",
    "prompt_credentials() {\n",
    "    echo \"Enter your Earthdata Login or other provider supplied credentials\"\n",
    "    read -p \"Username (sainzpaa): \" username\n",
    "    username=${username:-sainzpaa}\n",
    "    read -s -p \"Password: \" password\n",
    "    echo \"machine urs.earthdata.nasa.gov login $username password $password\" >> $netrc\n",
    "    echo\n",
    "}\n",
    "\n",
    "exit_with_error() {\n",
    "    echo\n",
    "    echo \"Unable to Retrieve Data\"\n",
    "    echo\n",
    "    echo $1\n",
    "    echo\n",
    "    echo \"https://data.lpdaac.earthdatacloud.nasa.gov/lp-prod-protected/MOD11A1.061/MOD11A1.A2000056.h29v07.061.2020043121141/MOD11A1.A2000056.h29v07.061.2020043121141.hdf\"\n",
    "    echo\n",
    "    exit 1\n",
    "}\n",
    "\n",
    "prompt_credentials\n",
    "  detect_app_approval() {\n",
    "    approved=`curl -s -b \"$cookiejar\" -c \"$cookiejar\" -L --max-redirs 5 --netrc-file \"$netrc\" https://data.lpdaac.earthdatacloud.nasa.gov/lp-prod-protected/MOD11A1.061/MOD11A1.A2000056.h29v07.061.2020043121141/MOD11A1.A2000056.h29v07.061.2020043121141.hdf -w '\\n%{http_code}' | tail  -1`\n",
    "    if [ \"$approved\" -ne \"200\" ] && [ \"$approved\" -ne \"301\" ] && [ \"$approved\" -ne \"302\" ]; then\n",
    "        # User didn't approve the app. Direct users to approve the app in URS\n",
    "        exit_with_error \"Please ensure that you have authorized the remote application by visiting the link below \"\n",
    "    fi\n",
    "}\n",
    "\n",
    "setup_auth_curl() {\n",
    "    # Firstly, check if it require URS authentication\n",
    "    status=$(curl -s -z \"$(date)\" -w '\\n%{http_code}' https://data.lpdaac.earthdatacloud.nasa.gov/lp-prod-protected/MOD11A1.061/MOD11A1.A2000056.h29v07.061.2020043121141/MOD11A1.A2000056.h29v07.061.2020043121141.hdf | tail -1)\n",
    "    if [[ \"$status\" -ne \"200\" && \"$status\" -ne \"304\" ]]; then\n",
    "        # URS authentication is required. Now further check if the application/remote service is approved.\n",
    "        detect_app_approval\n",
    "    fi\n",
    "}\n",
    "\n",
    "setup_auth_wget() {\n",
    "    # The safest way to auth via curl is netrc. Note: there's no checking or feedback\n",
    "    # if login is unsuccessful\n",
    "    touch ~/.netrc\n",
    "    chmod 0600 ~/.netrc\n",
    "    credentials=$(grep 'machine urs.earthdata.nasa.gov' ~/.netrc)\n",
    "    if [ -z \"$credentials\" ]; then\n",
    "        cat \"$netrc\" >> ~/.netrc\n",
    "    fi\n",
    "}\n",
    "\n",
    "fetch_urls() {\n",
    "  if command -v curl >/dev/null 2>&1; then\n",
    "      setup_auth_curl\n",
    "      while read -r line; do\n",
    "        # Get everything after the last '/'\n",
    "        filename=\"${line##*/}\"\n",
    "\n",
    "        # Strip everything after '?'\n",
    "        stripped_query_params=\"${filename%%\\?*}\"\n",
    "\n",
    "        curl -f -b \"$cookiejar\" -c \"$cookiejar\" -L --netrc-file \"$netrc\" -g -o $stripped_query_params -- $line && echo || exit_with_error \"Command failed with error. Please retrieve the data manually.\"\n",
    "      done;\n",
    "  elif command -v wget >/dev/null 2>&1; then\n",
    "      # We can't use wget to poke provider server to get info whether or not URS was integrated without download at least one of the files.\n",
    "      echo\n",
    "      echo \"WARNING: Can't find curl, use wget instead.\"\n",
    "      echo \"WARNING: Script may not correctly identify Earthdata Login integrations.\"\n",
    "      echo\n",
    "      setup_auth_wget\n",
    "      while read -r line; do\n",
    "        # Get everything after the last '/'\n",
    "        filename=\"${line##*/}\"\n",
    "\n",
    "        # Strip everything after '?'\n",
    "        stripped_query_params=\"${filename%%\\?*}\"\n",
    "\n",
    "        wget --load-cookies \"$cookiejar\" --save-cookies \"$cookiejar\" --output-document $stripped_query_params --keep-session-cookies -- $line && echo || exit_with_error \"Command failed with error. Please retrieve the data manually.\"\n",
    "      done;\n",
    "  else\n",
    "      exit_with_error \"Error: Could not find a command-line downloader.  Please install curl or wget\"\n",
    "  fi\n",
    "}\n",
    "\n",
    "fetch_urls <<'EDSCEOF'\n",
    "https://data.lpdaac.earthdatacloud.nasa.gov/lp-prod-protected/MOD11A1.061/MOD11A1.A2000056.h29v07.061.2020043121141/MOD11A1.A2000056.h29v07.061.2020043121141.hdf\n",
    "https://data.lpdaac.earthdatacloud.nasa.gov/lp-prod-protected/MOD11A1.061/MOD11A1.A2000057.h29v07.061.2020043121141/MOD11A1.A2000057.h29v07.061.2020043121141.hdf\n",
    "https://data.lpdaac.earthdatacloud.nasa.gov/lp-prod-protected/MOD11A1.061/MOD11A1.A2000058.h29v07.061.2020043121141/MOD11A1.A2000058.h29v07.061.2020043121141.hdf\n",
    "https://data.lpdaac.earthdatacloud.nasa.gov/lp-prod-protected/MOD11A1.061/MOD11A1.A2000059.h29v07.061.2020043121140/MOD11A1.A2000059.h29v07.061.2020043121140.hdf\n",
    "https://data.lpdaac.earthdatacloud.nasa.gov/lp-prod-protected/MOD11A1.061/MOD11A1.A2000060.h29v07.061.2020043121140/MOD11A1.A2000060.h29v07.061.2020043121140.hdf\n",
    "https://data.lpdaac.earthdatacloud.nasa.gov/lp-prod-protected/MOD11A1.061/MOD11A1.A2000061.h29v07.061.2020043121140/MOD11A1.A2000061.h29v07.061.2020043121140.hdf\n",
    "https://data.lpdaac.earthdatacloud.nasa.gov/lp-prod-protected/MOD11A1.061/MOD11A1.A2000062.h29v07.061.2020043121140/MOD11A1.A2000062.h29v07.061.2020043121140.hdf\n",
    "\n",
    "EDSCEOF\n",
    "\n",
    "# All the documents available in the fetch_urls.md file, located in the folders\n"
   ]
  },
  {
   "cell_type": "markdown",
   "metadata": {},
   "source": [
    "## Examine the relationship between ambient temperatures and vulnerable populations\n",
    "\n",
    "It is important to understand the population density so we can match it with the LST information retrieved to identify those UHIs where vulnerable population can be affected in order to determine possible solutions to implement. \n",
    "\n",
    "In order to retrieve the information of population density, can be done through the [Worldpop HUB](https://hub.worldpop.org/geodata/listing?id=69).\n",
    "\n",
    "Filtering by Philippines, we can get map information for the last 20 years and download it. For example, downloading the information from 2020. As the file is more than 25MB cannot be uploaded in the GitHUB folder, but if needed, can be downloaded in the [link](https://hub.worldpop.org/geodata/summary?id=28283)\n",
    "\n",
    "*(Estimated total number of people per grid-cell. The dataset is available to download in Geotiff format at a resolution of 3 arc (approximately 100m at the equator). The units are number of people per pixel with country totals adjusted to match the corresponding official United Nations population estimates that have been prepared by the Population Division of the Department of Economic and Social Affairs of the United Nations Secretariat (2019 Revision of World Population Prospects). The mapping approach is Random Forest-based dasymetric redistribution.)"
   ]
  },
  {
   "cell_type": "markdown",
   "metadata": {},
   "source": [
    "##Identify specific locations with high ambient temperatures and high percentages of vulnerable populations\n",
    "\n"
   ]
  },
  {
   "cell_type": "code",
   "execution_count": 54,
   "metadata": {
    "vscode": {
     "languageId": "shellscript"
    }
   },
   "outputs": [
    {
     "name": "stdout",
     "output_type": "stream",
     "text": [
      "{\"cod\":401, \"message\": \"Invalid API key. Please see https://openweathermap.org/faq#error401 for more info.\"}\n"
     ]
    }
   ],
   "source": [
    "# To create a key, you first need to create a profile. \n",
    "# Once you have created a profile, you can proceed to generate your key in \"My API keys\".\n",
    "\n",
    "curl \"https://api.openweathermap.org/data/2.5/weather?q=Manila&appid=d0a3aaefcaefe2907ff4ca586e3d280a\"\n",
    "\n"
   ]
  },
  {
   "cell_type": "code",
   "execution_count": 5,
   "metadata": {
    "vscode": {
     "languageId": "shellscript"
    }
   },
   "outputs": [
    {
     "name": "stdout",
     "output_type": "stream",
     "text": [
      "  % Total    % Received % Xferd  Average Speed   Time    Time     Time  Current\n",
      "                                 Dload  Upload   Total   Spent    Left  Speed\n",
      "\r"
     ]
    },
    {
     "name": "stdout",
     "output_type": "stream",
     "text": [
      "100   392  100   392    0     0    383      0  0:00:01  0:00:01 --:--:--   383\n",
      "\u001b[1;39m{\n",
      "  \u001b[0m\u001b[34;1m\"services\"\u001b[0m\u001b[1;39m: \u001b[0m\u001b[1;39m[\n",
      "    \u001b[0;32m\"stats\"\u001b[0m\u001b[1;39m,\n",
      "    \u001b[0;32m\"sample\"\u001b[0m\u001b[1;39m\n",
      "  \u001b[1;39m]\u001b[0m\u001b[1;39m,\n",
      "  \u001b[0m\u001b[34;1m\"datasets\"\u001b[0m\u001b[1;39m: \u001b[0m\u001b[1;39m{\n",
      "    \u001b[0m\u001b[34;1m\"wpgppop\"\u001b[0m\u001b[1;39m: \u001b[0m\u001b[0;32m\"Global per country 2000-2020 datasets represent the outputs from a project focused on construction of consistent 100m resolution population count datasets for all countries of the World for each year 2000-2020.\"\u001b[0m\u001b[1;39m,\n",
      "    \u001b[0m\u001b[34;1m\"wpgpas\"\u001b[0m\u001b[1;39m: \u001b[0m\u001b[0;32m\"Age and sex structures, Global per country 2000-2020\"\u001b[0m\u001b[1;39m\n",
      "  \u001b[1;39m}\u001b[0m\u001b[1;39m\n",
      "\u001b[1;39m}\u001b[0m\n"
     ]
    }
   ],
   "source": [
    "curl -X GET https://api.worldpop.org/v1/services | jq\n"
   ]
  },
  {
   "cell_type": "code",
   "execution_count": 6,
   "metadata": {
    "vscode": {
     "languageId": "shellscript"
    }
   },
   "outputs": [
    {
     "name": "stdout",
     "output_type": "stream",
     "text": [
      "\u001b[0;32m\"OBJECTID\"\u001b[0m\n",
      "\u001b[0;32m\"Name\"\u001b[0m\n",
      "\u001b[0;32m\"Address\"\u001b[0m\n",
      "\u001b[0;32m\"Area\"\u001b[0m\n",
      "\u001b[0;32m\"Owner\"\u001b[0m\n",
      "\u001b[0;32m\"AddOwner\"\u001b[0m\n",
      "\u001b[0;32m\"OwnerPhone\"\u001b[0m\n",
      "\u001b[0;32m\"OwnerAddres\"\u001b[0m\n",
      "\u001b[0;32m\"Symbol\"\u001b[0m\n",
      "\u001b[0;32m\"Type\"\u001b[0m\n",
      "\u001b[0;32m\"Notes\"\u001b[0m\n",
      "\u001b[0;32m\"\"\u001b[0m\n",
      "\u001b[0;32m\"Shape__Area\"\u001b[0m\n",
      "\u001b[0;32m\"Shape__Length\"\u001b[0m\n"
     ]
    }
   ],
   "source": [
    "# Realiza la solicitud GET a la API y guarda la respuesta en un archivo llamado response.json\n",
    "curl -s \"https://services1.arcgis.com/38fAqAZVRCrVtPUU/arcgis/rest/services/HomelessProject_Map_Services/FeatureServer/4?f=json\" -o response.json\n",
    "\n",
    "# Utiliza jq para analizar la respuesta y extraer la información relevante, por ejemplo, puedes imprimir los nombres de los sitios de personas sin hogar\n",
    "jq '.fields[].alias' response.json\n"
   ]
  },
  {
   "cell_type": "code",
   "execution_count": 9,
   "metadata": {
    "vscode": {
     "languageId": "shellscript"
    }
   },
   "outputs": [
    {
     "name": "stdout",
     "output_type": "stream",
     "text": [
      "Localizaciones de personas sin hogar:\n",
      "Civic Center 1 - null\n",
      "Civic Center 3 - null\n",
      "Civic Center 4 - null\n",
      "Lowes Parking Lot - null\n",
      "Civic Center 2 - null\n",
      "Civic Center 1 - null\n"
     ]
    }
   ],
   "source": [
    "#!/bin/bash\n",
    "\n",
    "# Definir la URL de la API\n",
    "API_URL=\"https://services1.arcgis.com/38fAqAZVRCrVtPUU/arcgis/rest/services/HomelessProject_Map_Services/FeatureServer/4/query\"\n",
    "\n",
    "# Definir los parámetros de la consulta\n",
    "PARAMS=\"where=1%3D1&outFields=Name,Address&f=json\"\n",
    "\n",
    "# Realizar la solicitud GET a la API y guardar la respuesta en un archivo temporal\n",
    "curl -s \"$API_URL?$PARAMS\" -o response.json\n",
    "\n",
    "# Procesar la respuesta JSON para extraer la información de localización\n",
    "locations=$(jq -r '.features[] | .attributes | \"\\(.Name) - \\(.Address)\"' response.json)\n",
    "\n",
    "# Imprimir las localizaciones obtenidas\n",
    "echo \"Localizaciones de personas sin hogar:\"\n",
    "echo \"$locations\"\n",
    "\n",
    "# Eliminar el archivo temporal de la respuesta\n",
    "rm response.json\n",
    "\n"
   ]
  },
  {
   "cell_type": "code",
   "execution_count": null,
   "metadata": {
    "vscode": {
     "languageId": "shellscript"
    }
   },
   "outputs": [],
   "source": []
  }
 ],
 "metadata": {
  "kernelspec": {
   "display_name": "Bash",
   "language": "bash",
   "name": "bash"
  },
  "language_info": {
   "codemirror_mode": "shell",
   "file_extension": ".sh",
   "mimetype": "text/x-sh",
   "name": "bash"
  }
 },
 "nbformat": 4,
 "nbformat_minor": 2
}
