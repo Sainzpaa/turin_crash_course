{
 "cells": [
  {
   "cell_type": "markdown",
   "metadata": {},
   "source": [
    "# Request for Proposals (RFP): Mitigating Urban Heat Islands for Vulnerable Populations in Developing Countries  \n",
    "\n",
    "**Introduction**\n",
    "\n",
    "The term \"urban heat island\" (UHI) refers to a phenomenon that occurs when temperatures in urban areas are higher than those in the areas that surround them (suburban area).\n",
    "\n",
    "The urban heat island phenomenon can result in increase of energy consumption, increase of air pollution, decrease of water quality, and increase of greenhouse gas emissions, all of which have the potential to negatively impact people in a variety of ways.\n",
    "\n",
    "When we talk about \"Urban Heat Islands for Vulnerable Populations,\" we refer to groups of people such as the homeless, migrants, elderly individuals, young children, and people with pre-existing medical conditions. These groups often have less access to resources to protect themselves from extreme heat, such as air conditioning, adequate shelter, or access to clean water. This situation could lead in health problems as heat strokers or dehydaration. \n",
    "\n",
    "UHI have additional environmental effects, including increased air pollution and greenhouse gas emissions. UHI worsens air quality due to higher fossil fuel consumption, resulting in the production of carbon dioxide (CO2) and other pollutants like sulphur dioxide (SO2) and nitrogen oxides (NOx), which contribute to the greenhouse effect.\n",
    "\n"
   ]
  },
  {
   "cell_type": "markdown",
   "metadata": {},
   "source": [
    "# Vulnerable  populations  in UHI\n",
    "\n",
    "In this study, we focused on identifying and analyzing vulnerable populations in the context of Urban Heat Islands (UHI). To efficiently collect and organize data, we utilized the online tool Smallpdf to convert a PDF document containing relevant information into an Excel file.\n",
    "\n",
    "(Source)[https://spaj.ukm.my/ijphr/index.php/ijphr/article/view/422]\n",
    "\n",
    "We employed Smallpdf to extract and convert the data table from the PDF into a easily manageable Excel format. Once we obtained the Excel file with the data, we proceeded to convert it to CSV."
   ]
  },
  {
   "cell_type": "code",
   "execution_count": 25,
   "metadata": {
    "vscode": {
     "languageId": "shellscript"
    }
   },
   "outputs": [
    {
     "name": "stdout",
     "output_type": "stream",
     "text": [
      "Reading package lists... 0%Reading package lists... 0%Reading package lists... 0%\r"
     ]
    },
    {
     "name": "stdout",
     "output_type": "stream",
     "text": [
      "Reading package lists... 4%Reading package lists... 4%Reading package lists... 4%Reading package lists... 4%Reading package lists... 40%Reading package lists... 40%Reading package lists... 40%Reading package lists... 40%Reading package lists... 53%Reading package lists... 53%Reading package lists... 61%Reading package lists... 65%Reading package lists... 65%Reading package lists... 70%Reading package lists... 70%Reading package lists... 70%Reading package lists... 70%Reading package lists... 70%Reading package lists... 70%Reading package lists... 70%Reading package lists... 70%Reading package lists... 82%Reading package lists... 82%Reading package lists... 94%Reading package lists... 94%Reading package lists... 98%Reading package lists... 98%Reading package lists... 98%Reading package lists... 98%Reading package lists... 98%Reading package lists... 98%Reading package lists... 98%Reading package lists... 98%Reading package lists... 99%Reading package lists... 99%Reading package lists... 99%Reading package lists... 99%Reading package lists... 99%Reading package lists... 99%Reading package lists... 99%Reading package lists... 99%Reading package lists... Done\n",
      "Building dependency tree... 0%Building dependency tree... 0%Building dependency tree... 50%Building dependency tree... 50%Building dependency tree       \n",
      "Reading state information... 0%Reading state information... 0%Reading state information... Done\n",
      "The following NEW packages will be installed:\n",
      "  xlsx2csv\n",
      "0 upgraded, 1 newly installed, 0 to remove and 39 not upgraded.\n",
      "Need to get 178 kB of archives.\n",
      "After this operation, 359 kB of additional disk space will be used.\n",
      "Get:1 http://archive.ubuntu.com/ubuntu focal/universe amd64 xlsx2csv all 1:0.7.6-1 [178 kB]\n",
      "Fetched 178 kB in 0s (385 kB/s)  \n",
      "debconf: unable to initialize frontend: Dialog\n",
      "debconf: (Dialog frontend will not work on a dumb terminal, an emacs shell buffer, or without a controlling terminal.)\n",
      "debconf: falling back to frontend: Readline\n",
      "Selecting previously unselected package xlsx2csv.\n",
      "(Reading database ... 69952 files and directories currently installed.)\n",
      "Preparing to unpack .../xlsx2csv_1%3a0.7.6-1_all.deb ...\n",
      "Unpacking xlsx2csv (1:0.7.6-1) ...\n",
      "Setting up xlsx2csv (1:0.7.6-1) ...\n",
      "Processing triggers for man-db (2.9.1-1) ...\n"
     ]
    }
   ],
   "source": [
    "#Instalar para poder convertir XLSX a CSV\n",
    "sudo apt-get install xlsx2csv"
   ]
  },
  {
   "cell_type": "code",
   "execution_count": 33,
   "metadata": {
    "vscode": {
     "languageId": "shellscript"
    }
   },
   "outputs": [
    {
     "name": "stdout",
     "output_type": "stream",
     "text": [
      "Table 1: Summary of the findings;;;;;;;\n",
      "Author/Year;;Study Design;;;Findings;;\n",
      "Hsu et al. 2021 25;United States of America;Cross sectional;;;\"o  In 86% of the cities in the United States, individuals who  were over  the age of  65 tended to have lower exposure to the UHI effect compared to those who are under the age of 65.\n",
      "o  Individuals from racial and ethnic minority groups in every age group were exposed to noticeably higher levels of heat compared\n",
      "to their white counterparts.\";;\n",
      "Robine et al. 2008 40;Europe;Ecological;;;\"o  During the period of high mortality, there was  a  notable  difference  in  the  gender distribution   of   deaths.   Specifically,   on August 12th in France and August 13th in Italy, there was a significant increase in the proportion  of  female  deaths,  with  a  21% increase in France and a 14% increase in\n",
      "Italy.\";;\n",
      "Fouillet et al. 2006 42;France;Ecological;;;\"o  As age increased, particularly among those 65 years old and above, there was a higher incidence of mortality.\n",
      "o  The risk of mortality increased with age.\n",
      "o  For those aged 45 and older, mortality was 15% higher in women compared to men of the same age\n",
      "o  Widowed, single, and divorced individuals had  a  higher  mortality  rate  than  married individuals.\n",
      "o  Cardiovascular      diseases,      respiratory diseases,   nervous   system   diseases,   and other   ill-defined   morbid   disorders   also contributed     significantly     to     higher\n",
      "mortality\";;\n",
      "Kakkad et al. 2014 26;India;Retrospective Cross-sectional;;;\"o  When the temperature reached 42 degrees Celsius   or   higher,   there   was   a   43% increase in the number of new-borns who\n",
      "required    intensive    care    unit    (ICU) admission due to heat-related issues.\";;\n",
      "Alonso et al. 2020 50;France;Ecological;;;\"o  People  aged  75  years  and  over  was  the most vulnerable category to heat waves\n",
      "o  Women    aged    45–74    were    slightly vulnerable (54%)  than  men  (46%)  in  the same age group\n",
      "o  Women  aged  75  and  over  were  just  as sensitive (52%) as men (48%)\";;\n",
      "Rocklov et al. 2014 47;Sweden;Ecological;;;\"o  Heat   waves   had   a   stronger   effect   on mortality       rates       among       younger individuals,  as  well  as  in  regions  with lower socio-economic status.\n",
      "o  Individuals  aged  over  80  years  old  were also more susceptible.\n",
      "o  Women  below  the  age  of  65  but  with history  of  mental  health  hospitalisations, and  individuals  with  prior  cardiovascular disease were at a higher risk of mortality.\n",
      "o  Rising     summer     temperatures     were associated with mortality in those under 65\";;\n",
      ";;;;;\"years old with previous heart attacks and\n",
      "chronic   obstructive   pulmonary   disease (COPD).\";;\n",
      "Ellena et al. 2020 27;Italy;Ecological;;;\"o  The risk of mortality was greater in older individuals  (2.13;  95%  CI  =  1.94,  2.33) during the heat events.\n",
      "o  The risk of mortality was greater in women (1.88; 95% CI = 1.77, 2.00) and in older\n",
      "individuals (2.13; 95% CI = 1.94, 2.33).\n",
      "o  The risk of mortality showed a significant association with education levels, men had a higher risk with higher education levels (1.66; 95% CI = 1.38, 1.99), and women\n",
      "had  a  higher  risk  with  lower  education levels (1.93; 95% CI = 1.79, 2.08).\n",
      "o  There   was   a   higher   risk   of   all-cause mortality among widowed men (1.66; 95% CI = 1.38, 2.00) and separated or divorced women (2.11; 95% CI = 1.51, 2.94).\n",
      "Men  who  lived  alone  have  a  stronger association with mortality risk (1.61; 95% CI  =  1.39,  1.86),  while  for  women,  the results were similar for both groups, who\n",
      "lived alone and not.\";;\n",
      "Vaidyanathan et al. 2017 55;United States of America;Ecological;;;\"o  Individual aged ≥ 65 years had the highest rate of heat-related deaths (0.7 per 100,000 population).\n",
      "o  70%  of  heat-related  deaths  occurred  in males excepts for infants aged <1 year.\n",
      "o  Non-Hispanic    American    Indian/Alaska Natives had the highest rate of heat-related deaths (0.6 per 100,000 population).\n",
      "o  Non-Hispanic   blacks   had   the   second- highest   number   of   heat-related   deaths (1,965)    and    rate    (0.3    per    100,000 population).\";;\n",
      "Ngarambe et al. 2022 45;South Korea;Ecological;;;\"o  The   effect   of   rising   temperatures   on mortality  was  more  pronounced  among males and individuals who were ≥ 65 years\n",
      "old.\";;\n",
      "Huang et al. 2015 46;China;Ecological;;;\"o  Individual      factors      that      increased susceptibility    to    the    effects    of    heat included elderly, female, died outside of a hospital    setting,    died    of    respiratory\n",
      "diseases,   and   had   a   lower   level   of education.\";;\n",
      "Chan et al. 2012 28;Hong Kong;Ecological;;;\"o  Women  were  more  vulnerable  to  heat- related mortality.\n",
      "o  Married  people  were  more  vulnerable  to heat-related mortality.\n",
      "o  High temperatures had a greater effect on non-cancer related causes of death, such as cardiovascular and respiratory infections.\n",
      "o  People    lived    in    low    socioeconomic districts,  were  more  vulnerable  to  heat- related mortality.\n",
      "o  High temperatures had a greater effect on non-cancer related causes of death, such as cardiovascular and respiratory infections.\";;\n",
      "Jesdale et al. 2013 56;United States of America;Ecological;\"o  Non-Hispanic   blacks   were   52%   more likelihood (95% CI: 37%, 69%) to live in areas with heat-risk related conditions than non-Hispanic whites.\n",
      "o  Non-Hispanic  Asians  had  a  32%  higher likelihood  (95%  CI:  18%,  47%),  while Hispanics  had  a  21%  higher  likelihood\n",
      "(95% CI: 8%, 35%) of living in such areas compared to non-Hispanic whites.\";;;;\n",
      "Wong et al. 2016 60;Hong Kong;Ecological;\"o  The risk of being exposed to intense urban heat    island    effect    was    higher    for individuals who were widowed, divorced, or separated.\n",
      "o  Individuals  who  were  60  years  or  older, had   lower   levels   of   education,   were widow,  divorced,  or  separated  and    had low or  middle incomes,  were at a higher risk of being exposed to intense urban heat island effect.\n",
      "o  People who have low or middle incomes, were at a higher risk of being exposed to\n",
      "intense UHI effect.\";;;;\n",
      "Benz et al. 2021 63;United States of America;Ecological;\"o  76% of counties in the United States had a higher    burden    of    urban    heating    on\n",
      "individuals    with    lower    income    and education levels.\";;;;\n",
      "Voelkel et al. 2018 64;United States of America;Ecological;\"o  There were strong links between exposure to heat and populations who had minimal education     or     had     limited     English proficiency.\n",
      "o  There  was  a  notable  correlation  between low-income      populations      and      their susceptibility    to    the    effects    of    heat\n",
      "exposure.\";;;;\n",
      "Sett et al. 2013 54;India;Cross sectional;\"o  The intense summer heat in brickfields led to   physiological   strain   among   female\n",
      "workers making them more susceptible to UHI phenomenon.\";;;;\n",
      "Wong et al. 2017 29;Malaysia;Cross sectional;\"o  Indoor     workers     affected     by     UHI experienced various heat-related illnesses, with  respiratory  problems  was  being  the\n",
      "most  common  (90%),  followed  by  heat exhaustion, heat cramps, and heat stroke.\";;;;\n"
     ]
    },
    {
     "name": "stdout",
     "output_type": "stream",
     "text": [
      "Harshad et al. 2006 30;India;Cross sectional;o  Among     firefighters,     20%     reported experiencing   significant   occurrences   of heat  exhaustion,  while  5%  reported  heat syncope, pyrexia, and cramps.;;;;\n",
      "Barnett et al. 2014 75;United States of America;Ecological;\"o  High-risk  areas  for  extreme  heat  were associated  with  a  low  number  of  high- income  earners  and  a  higher  population\n",
      "density.\";;;;\n",
      "Zander et al. 2018 81;Philippines;Cross-sectional;\"o  Population      density      was      positively associated  with  the  level  of  heat  stress experienced  by  respondents.  Those  who felt  little  heat  stress  lived  in  areas  with lower  population  density  (less  than  1467 people/km2),   while   those   with   higher levels  of  heat  stress  lived  in  areas  with\n",
      "higher  population  density  (up  to  41,500 people/km2 in Manila City).\";;;;\n",
      "Elsayed et al. 2012 82;Malaysia;Case study;;\"o  The  study  found  that  the  UHI  in  Kuala Lumpur reached an intensity of 5.5 ºC on December 26, 2004. This was higher than\n",
      "the  intensity  of  4.0  ºC  recorded  in  1985, according to previous studies.\";;;\n",
      "Mallick et al. 2012 83;India;Ecological;;\"o  The   highest   surface   temperatures   were observed in the central and eastern parts of the    India,    specifically    in    the    areas dominated  by  commercial  activities  with low vegetation cover and high population density.\n",
      "o  These   areas   included   Chandni   Chowk, Mangolpuri, Uttam Nagar, Okhla Phase I, Shahdara,      Lakshminagar,      Mayapuri Industrial Area and Narela Industrial Area,\n",
      "where temperatures ranged from  34°C to 40°C.\";;;\n",
      "Taylor et al. 2018 91;United States of America;Cross-sectional;;\"o  Heat-related  deaths  were  more  common among  non-US  citizens  compared  to  US citizens, accounting 2.23% and 0.02% of deaths,   respectively.   The   risk   was   3.4 times higher for non-US citizens, with the highest   risk   observed   among   Hispanic non-US citizens and  those aged  18 to 24\n",
      "years\";;;\n",
      "Sun et al. 2016 62;Hong Kong;Cross-sectional;;\"o  Elders with pre-existing health conditions were more vulnerable to mortality risk to\n",
      "                                                                                                               hot and/or cold temperature.                         \";;;\n"
     ]
    }
   ],
   "source": [
    "# Convert XLSX to CSV so we can get arrays and show the information \n",
    "xlsx2csv UHIguia.xlsx --sheet 4 --delimiter ';' --output UHIguia.csv\n"
   ]
  },
  {
   "cell_type": "code",
   "execution_count": 30,
   "metadata": {
    "vscode": {
     "languageId": "shellscript"
    }
   },
   "outputs": [
    {
     "name": "stdout",
     "output_type": "stream",
     "text": [
      "El archivo CSV 'UHIguia_Table4.csv' no existe.\n",
      "exit\n",
      "Restarting Bash\n"
     ]
    }
   ],
   "source": [
    "#!/bin/bash\n",
    "\n",
    "# Archivo de entrada CSV\n",
    "csv_file=\"UHIguia_Table4.csv\"\n",
    "\n",
    "# Archivo de salida Markdown\n",
    "md_file=\"UHIguia_Table4.md\"\n",
    "\n",
    "# Verificar si el archivo CSV existe\n",
    "if [ ! -f \"$csv_file\" ]; then\n",
    "    echo \"El archivo CSV '$csv_file' no existe.\"\n",
    "    exit 1\n",
    "fi\n",
    "\n",
    "# Convertir el CSV a Markdown\n",
    "csv2md() {\n",
    "    local csv_file=\"$1\"\n",
    "    local md_file=\"$2\"\n",
    "\n",
    "    echo \"|$(head -n 1 \"$csv_file\")|\" > \"$md_file\"\n",
    "    echo \"|$(sed 's/[^,]/-/g;s/,/|/g' \"$csv_file\")|\" >> \"$md_file\"\n",
    "    tail -n +3 \"$csv_file\" | sed 's/^/|/;s/$/|/' >> \"$md_file\"\n",
    "}\n",
    "\n",
    "# Llamar a la función csv2md\n",
    "csv2md \"$csv_file\" \"$md_file\"\n",
    "\n",
    "echo \"El archivo Markdown '$md_file' se ha creado exitosamente.\"\n"
   ]
  },
  {
   "cell_type": "markdown",
   "metadata": {},
   "source": [
    "# Project description\n",
    "Project aims to identify urban areas affected by UHIs impacting vulnerable populations. The proposal will propose and develop actionable strategies based on geospatial and weather data to reduce disparities and improve conditions."
   ]
  },
  {
   "cell_type": "markdown",
   "metadata": {},
   "source": [
    "# Define\n",
    "## Research question\n",
    "How to change conditions and reduce disparities caused by UHIs to improve vulnerable population lives?\n",
    "\n",
    "## Hypotheses\n",
    "The mapping and the identification of UHIs can provide guidance to modify those areas. \n",
    "\n",
    "## Hypothesis notes\n",
    "**Find data from the weather systems (forecast and historic) by locations. Areas with high density of vulnerable population to map it. Idenitfy possible solutions and the available resources in the area **"
   ]
  },
  {
   "cell_type": "code",
   "execution_count": 5,
   "metadata": {
    "vscode": {
     "languageId": "shellscript"
    }
   },
   "outputs": [
    {
     "name": "stdout",
     "output_type": "stream",
     "text": [
      "  % Total    % Received % Xferd  Average Speed   Time    Time     Time  Current\n",
      "                                 Dload  Upload   Total   Spent    Left  Speed\n",
      "\r"
     ]
    },
    {
     "name": "stdout",
     "output_type": "stream",
     "text": [
      "100   392  100   392    0     0    383      0  0:00:01  0:00:01 --:--:--   383\n",
      "\u001b[1;39m{\n",
      "  \u001b[0m\u001b[34;1m\"services\"\u001b[0m\u001b[1;39m: \u001b[0m\u001b[1;39m[\n",
      "    \u001b[0;32m\"stats\"\u001b[0m\u001b[1;39m,\n",
      "    \u001b[0;32m\"sample\"\u001b[0m\u001b[1;39m\n",
      "  \u001b[1;39m]\u001b[0m\u001b[1;39m,\n",
      "  \u001b[0m\u001b[34;1m\"datasets\"\u001b[0m\u001b[1;39m: \u001b[0m\u001b[1;39m{\n",
      "    \u001b[0m\u001b[34;1m\"wpgppop\"\u001b[0m\u001b[1;39m: \u001b[0m\u001b[0;32m\"Global per country 2000-2020 datasets represent the outputs from a project focused on construction of consistent 100m resolution population count datasets for all countries of the World for each year 2000-2020.\"\u001b[0m\u001b[1;39m,\n",
      "    \u001b[0m\u001b[34;1m\"wpgpas\"\u001b[0m\u001b[1;39m: \u001b[0m\u001b[0;32m\"Age and sex structures, Global per country 2000-2020\"\u001b[0m\u001b[1;39m\n",
      "  \u001b[1;39m}\u001b[0m\u001b[1;39m\n",
      "\u001b[1;39m}\u001b[0m\n"
     ]
    }
   ],
   "source": [
    "curl -X GET https://api.worldpop.org/v1/services | jq\n"
   ]
  },
  {
   "cell_type": "code",
   "execution_count": 6,
   "metadata": {
    "vscode": {
     "languageId": "shellscript"
    }
   },
   "outputs": [
    {
     "name": "stdout",
     "output_type": "stream",
     "text": [
      "\u001b[0;32m\"OBJECTID\"\u001b[0m\n",
      "\u001b[0;32m\"Name\"\u001b[0m\n",
      "\u001b[0;32m\"Address\"\u001b[0m\n",
      "\u001b[0;32m\"Area\"\u001b[0m\n",
      "\u001b[0;32m\"Owner\"\u001b[0m\n",
      "\u001b[0;32m\"AddOwner\"\u001b[0m\n",
      "\u001b[0;32m\"OwnerPhone\"\u001b[0m\n",
      "\u001b[0;32m\"OwnerAddres\"\u001b[0m\n",
      "\u001b[0;32m\"Symbol\"\u001b[0m\n",
      "\u001b[0;32m\"Type\"\u001b[0m\n",
      "\u001b[0;32m\"Notes\"\u001b[0m\n",
      "\u001b[0;32m\"\"\u001b[0m\n",
      "\u001b[0;32m\"Shape__Area\"\u001b[0m\n",
      "\u001b[0;32m\"Shape__Length\"\u001b[0m\n"
     ]
    }
   ],
   "source": [
    "# Realiza la solicitud GET a la API y guarda la respuesta en un archivo llamado response.json\n",
    "curl -s \"https://services1.arcgis.com/38fAqAZVRCrVtPUU/arcgis/rest/services/HomelessProject_Map_Services/FeatureServer/4?f=json\" -o response.json\n",
    "\n",
    "# Utiliza jq para analizar la respuesta y extraer la información relevante\n",
    "# Por ejemplo, puedes imprimir los nombres de los sitios de personas sin hogar\n",
    "jq '.fields[].alias' response.json\n"
   ]
  },
  {
   "cell_type": "code",
   "execution_count": 9,
   "metadata": {
    "vscode": {
     "languageId": "shellscript"
    }
   },
   "outputs": [
    {
     "name": "stdout",
     "output_type": "stream",
     "text": [
      "Localizaciones de personas sin hogar:\n",
      "Civic Center 1 - null\n",
      "Civic Center 3 - null\n",
      "Civic Center 4 - null\n",
      "Lowes Parking Lot - null\n",
      "Civic Center 2 - null\n",
      "Civic Center 1 - null\n"
     ]
    }
   ],
   "source": [
    "#!/bin/bash\n",
    "\n",
    "# Definir la URL de la API\n",
    "API_URL=\"https://services1.arcgis.com/38fAqAZVRCrVtPUU/arcgis/rest/services/HomelessProject_Map_Services/FeatureServer/4/query\"\n",
    "\n",
    "# Definir los parámetros de la consulta\n",
    "PARAMS=\"where=1%3D1&outFields=Name,Address&f=json\"\n",
    "\n",
    "# Realizar la solicitud GET a la API y guardar la respuesta en un archivo temporal\n",
    "curl -s \"$API_URL?$PARAMS\" -o response.json\n",
    "\n",
    "# Procesar la respuesta JSON para extraer la información de localización\n",
    "locations=$(jq -r '.features[] | .attributes | \"\\(.Name) - \\(.Address)\"' response.json)\n",
    "\n",
    "# Imprimir las localizaciones obtenidas\n",
    "echo \"Localizaciones de personas sin hogar:\"\n",
    "echo \"$locations\"\n",
    "\n",
    "# Eliminar el archivo temporal de la respuesta\n",
    "rm response.json\n",
    "\n"
   ]
  }
 ],
 "metadata": {
  "kernelspec": {
   "display_name": "Bash",
   "language": "bash",
   "name": "bash"
  },
  "language_info": {
   "codemirror_mode": "shell",
   "file_extension": ".sh",
   "mimetype": "text/x-sh",
   "name": "bash"
  }
 },
 "nbformat": 4,
 "nbformat_minor": 2
}
