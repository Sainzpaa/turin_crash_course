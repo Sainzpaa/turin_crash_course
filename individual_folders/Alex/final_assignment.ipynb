{
 "cells": [
  {
   "cell_type": "markdown",
   "metadata": {},
   "source": [
    "# Request for Proposals (RFP): Mitigating Urban Heat Islands for Vulnerable Populations in Developing Countries  \n",
    "\n",
    "**Introduction**\n",
    "\n",
    "The term \"urban heat island\" (UHI) refers to a phenomenon that occurs when temperatures in urban areas are higher than those in the areas that surround them (suburban area).\n",
    "\n",
    "The urban heat island phenomenon can result in increase of energy consumption, increase of air pollution, decrease of water quality, and increase of greenhouse gas emissions, all of which have the potential to negatively impact people in a variety of ways.\n",
    "\n",
    "When we talk about \"Urban Heat Islands for Vulnerable Populations,\" we refer to groups of people such as the homeless, migrants, elderly individuals, young children, and people with pre-existing medical conditions. These groups often have less access to resources to protect themselves from extreme heat, such as air conditioning, adequate shelter, or access to clean water. This situation could lead in health problems as heat strokers or dehydaration. \n",
    "\n",
    "UHI have additional environmental effects, including increased air pollution and greenhouse gas emissions. UHI worsens air quality due to higher fossil fuel consumption, resulting in the production of carbon dioxide (CO2) and other pollutants like sulphur dioxide (SO2) and nitrogen oxides (NOx), which contribute to the greenhouse effect.\n",
    "\n"
   ]
  },
  {
   "cell_type": "markdown",
   "metadata": {},
   "source": [
    "# Vulnerable  populations  in UHI\n",
    "\n",
    "In this study, we focused on identifying and analyzing vulnerable populations in the context of Urban Heat Islands (UHI). To efficiently collect and organize data, we utilized the online tool Smallpdf to convert a PDF document containing relevant information into an Excel file.\n",
    "\n",
    "(Source)[https://spaj.ukm.my/ijphr/index.php/ijphr/article/view/422]\n",
    "\n",
    "We employed Smallpdf to extract and convert the data table from the PDF into a easily manageable Excel format. Once we obtained the Excel file with the data, we proceeded to upload it to Google Spreadsheets. Google Spreadsheets provided us with a collaborative and accessible platform to work with the data and access to GitHUB.\n",
    "\n",
    "UHI Guia Google Spreadsheet (Table with the information of vulnerable populations)[https://docs.google.com/spreadsheets/d/1YEXu_hJb4K4UH1xAPUW7m3hMVq929EEz_mk5gjWKm2k/edit#gid=1196264157]"
   ]
  },
  {
   "cell_type": "code",
   "execution_count": 20,
   "metadata": {
    "vscode": {
     "languageId": "shellscript"
    }
   },
   "outputs": [
    {
     "name": "stdout",
     "output_type": "stream",
     "text": [
      "  % Total    % Received % Xferd  Average Speed   Time    Time     Time  Current\n",
      "                                 Dload  Upload   Total   Spent    Left  Speed\n",
      "  0     0    0     0    0     0      0      0 --:--:-- --:--:-- --:--:--     0\n",
      "100  102k  100  102k    0     0   269k      0 --:--:-- --:--:-- --:--:--  269k\n",
      "bash: libreoffice: command not found\n",
      "tail: cannot open 'UHIguia.csv' for reading: No such file or directory\n"
     ]
    }
   ],
   "source": [
    "#!/bin/bash\n",
    "\n",
    "# URL cruda del archivo Excel en GitHub\n",
    "excel_url=\"https://github.com/Sainzpaa/turin_crash_course/raw/master/individual_folders/Alex/UHIguia.xlsx\"\n",
    "\n",
    "# Descargar el archivo Excel\n",
    "curl -L -o UHIguia.xlsx \"$excel_url\"\n",
    "\n",
    "# Nombre de la hoja de cálculo que deseas convertir en un array\n",
    "sheet_name=\"Sheet4\"\n",
    "\n",
    "# Convertir la hoja de cálculo a CSV\n",
    "csv_file=\"UHIguia.csv\"\n",
    "libreoffice --headless --convert-to csv --outdir \"$(dirname \"$csv_file\")\" \"UHIguia.xlsx\"\n",
    "\n",
    "# Leer el CSV y convertirlo en un array\n",
    "mapfile -t array < <(tail -n +2 \"$csv_file\")\n",
    "\n",
    "# Mostrar el contenido del array\n",
    "for row in \"${array[@]}\"; do\n",
    "    echo \"$row\"\n",
    "done\n"
   ]
  },
  {
   "cell_type": "markdown",
   "metadata": {},
   "source": [
    "# Project description\n",
    "Project aims to identify urban areas affected by UHIs impacting vulnerable populations. The proposal will propose and develop actionable strategies based on geospatial and weather data to reduce disparities and improve conditions."
   ]
  },
  {
   "cell_type": "markdown",
   "metadata": {},
   "source": [
    "# Define\n",
    "## Research question\n",
    "How to change conditions and reduce disparities caused by UHIs to improve vulnerable population lives?\n",
    "\n",
    "## Hypotheses\n",
    "The mapping and the identification of UHIs can provide guidance to modify those areas. \n",
    "\n",
    "## Hypothesis notes\n",
    "**Find data from the weather systems (forecast and historic) by locations. Areas with high density of vulnerable population to map it. Idenitfy possible solutions and the available resources in the area **"
   ]
  },
  {
   "cell_type": "code",
   "execution_count": 5,
   "metadata": {
    "vscode": {
     "languageId": "shellscript"
    }
   },
   "outputs": [
    {
     "name": "stdout",
     "output_type": "stream",
     "text": [
      "  % Total    % Received % Xferd  Average Speed   Time    Time     Time  Current\n",
      "                                 Dload  Upload   Total   Spent    Left  Speed\n",
      "\r"
     ]
    },
    {
     "name": "stdout",
     "output_type": "stream",
     "text": [
      "100   392  100   392    0     0    383      0  0:00:01  0:00:01 --:--:--   383\n",
      "\u001b[1;39m{\n",
      "  \u001b[0m\u001b[34;1m\"services\"\u001b[0m\u001b[1;39m: \u001b[0m\u001b[1;39m[\n",
      "    \u001b[0;32m\"stats\"\u001b[0m\u001b[1;39m,\n",
      "    \u001b[0;32m\"sample\"\u001b[0m\u001b[1;39m\n",
      "  \u001b[1;39m]\u001b[0m\u001b[1;39m,\n",
      "  \u001b[0m\u001b[34;1m\"datasets\"\u001b[0m\u001b[1;39m: \u001b[0m\u001b[1;39m{\n",
      "    \u001b[0m\u001b[34;1m\"wpgppop\"\u001b[0m\u001b[1;39m: \u001b[0m\u001b[0;32m\"Global per country 2000-2020 datasets represent the outputs from a project focused on construction of consistent 100m resolution population count datasets for all countries of the World for each year 2000-2020.\"\u001b[0m\u001b[1;39m,\n",
      "    \u001b[0m\u001b[34;1m\"wpgpas\"\u001b[0m\u001b[1;39m: \u001b[0m\u001b[0;32m\"Age and sex structures, Global per country 2000-2020\"\u001b[0m\u001b[1;39m\n",
      "  \u001b[1;39m}\u001b[0m\u001b[1;39m\n",
      "\u001b[1;39m}\u001b[0m\n"
     ]
    }
   ],
   "source": [
    "curl -X GET https://api.worldpop.org/v1/services | jq\n"
   ]
  },
  {
   "cell_type": "code",
   "execution_count": 6,
   "metadata": {
    "vscode": {
     "languageId": "shellscript"
    }
   },
   "outputs": [
    {
     "name": "stdout",
     "output_type": "stream",
     "text": [
      "\u001b[0;32m\"OBJECTID\"\u001b[0m\n",
      "\u001b[0;32m\"Name\"\u001b[0m\n",
      "\u001b[0;32m\"Address\"\u001b[0m\n",
      "\u001b[0;32m\"Area\"\u001b[0m\n",
      "\u001b[0;32m\"Owner\"\u001b[0m\n",
      "\u001b[0;32m\"AddOwner\"\u001b[0m\n",
      "\u001b[0;32m\"OwnerPhone\"\u001b[0m\n",
      "\u001b[0;32m\"OwnerAddres\"\u001b[0m\n",
      "\u001b[0;32m\"Symbol\"\u001b[0m\n",
      "\u001b[0;32m\"Type\"\u001b[0m\n",
      "\u001b[0;32m\"Notes\"\u001b[0m\n",
      "\u001b[0;32m\"\"\u001b[0m\n",
      "\u001b[0;32m\"Shape__Area\"\u001b[0m\n",
      "\u001b[0;32m\"Shape__Length\"\u001b[0m\n"
     ]
    }
   ],
   "source": [
    "# Realiza la solicitud GET a la API y guarda la respuesta en un archivo llamado response.json\n",
    "curl -s \"https://services1.arcgis.com/38fAqAZVRCrVtPUU/arcgis/rest/services/HomelessProject_Map_Services/FeatureServer/4?f=json\" -o response.json\n",
    "\n",
    "# Utiliza jq para analizar la respuesta y extraer la información relevante\n",
    "# Por ejemplo, puedes imprimir los nombres de los sitios de personas sin hogar\n",
    "jq '.fields[].alias' response.json\n"
   ]
  },
  {
   "cell_type": "code",
   "execution_count": 9,
   "metadata": {
    "vscode": {
     "languageId": "shellscript"
    }
   },
   "outputs": [
    {
     "name": "stdout",
     "output_type": "stream",
     "text": [
      "Localizaciones de personas sin hogar:\n",
      "Civic Center 1 - null\n",
      "Civic Center 3 - null\n",
      "Civic Center 4 - null\n",
      "Lowes Parking Lot - null\n",
      "Civic Center 2 - null\n",
      "Civic Center 1 - null\n"
     ]
    }
   ],
   "source": [
    "#!/bin/bash\n",
    "\n",
    "# Definir la URL de la API\n",
    "API_URL=\"https://services1.arcgis.com/38fAqAZVRCrVtPUU/arcgis/rest/services/HomelessProject_Map_Services/FeatureServer/4/query\"\n",
    "\n",
    "# Definir los parámetros de la consulta\n",
    "PARAMS=\"where=1%3D1&outFields=Name,Address&f=json\"\n",
    "\n",
    "# Realizar la solicitud GET a la API y guardar la respuesta en un archivo temporal\n",
    "curl -s \"$API_URL?$PARAMS\" -o response.json\n",
    "\n",
    "# Procesar la respuesta JSON para extraer la información de localización\n",
    "locations=$(jq -r '.features[] | .attributes | \"\\(.Name) - \\(.Address)\"' response.json)\n",
    "\n",
    "# Imprimir las localizaciones obtenidas\n",
    "echo \"Localizaciones de personas sin hogar:\"\n",
    "echo \"$locations\"\n",
    "\n",
    "# Eliminar el archivo temporal de la respuesta\n",
    "rm response.json\n",
    "\n"
   ]
  }
 ],
 "metadata": {
  "kernelspec": {
   "display_name": "Bash",
   "language": "bash",
   "name": "bash"
  },
  "language_info": {
   "codemirror_mode": "shell",
   "file_extension": ".sh",
   "mimetype": "text/x-sh",
   "name": "bash"
  }
 },
 "nbformat": 4,
 "nbformat_minor": 2
}
